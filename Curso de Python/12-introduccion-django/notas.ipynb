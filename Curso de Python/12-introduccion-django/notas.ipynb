{
 "cells": [
  {
   "attachments": {},
   "cell_type": "markdown",
   "metadata": {},
   "source": [
    "# Django\n",
    "\n",
    "- *Instalar django:* pip/pipenv install django\n",
    "- *Generar proyecto:* django-admin startproject nombreProyecto .\n",
    "- *Generar aplicacion:* python manage.py startapp nombreAplicacion\n",
    "- *Ejecutar servidor local:* python manage.py runserver\n",
    "- *Subir los cambios:* python manage.py makemigrations\n",
    "- *Ejecutar los cambios:* python manage.py migrate\n",
    "- *Crear super usuario:* python manage.py createsuperuser (flakobb:Flako1030)"
   ]
  },
  {
   "cell_type": "markdown",
   "metadata": {},
   "source": [
    "## Conectar App con Proyecto\n",
    "\n",
    "En la carpeta del proyecto / settings.py agregar :"
   ]
  },
  {
   "cell_type": "code",
   "execution_count": null,
   "metadata": {},
   "outputs": [],
   "source": [
    "INSTALLED_APPS = [\n",
    "    'django.xx.xx',\n",
    "    'django.xx.xx',\n",
    "    'django.xx.xx',\n",
    "    'catalog.apps.CatalogConfig',\n",
    "]"
   ]
  },
  {
   "cell_type": "markdown",
   "metadata": {},
   "source": [
    "Y en el modulo urls.py del proyecto, agregar la url de la aplicación:"
   ]
  },
  {
   "cell_type": "code",
   "execution_count": null,
   "metadata": {},
   "outputs": [],
   "source": [
    "path('catalog/', include('catalog.urls')),"
   ]
  },
  {
   "cell_type": "markdown",
   "metadata": {},
   "source": [
    "En caso de no existir; crear el modulo urls.py en la aplicacion"
   ]
  },
  {
   "cell_type": "code",
   "execution_count": null,
   "metadata": {},
   "outputs": [],
   "source": [
    "urlpatterns = []"
   ]
  },
  {
   "cell_type": "markdown",
   "metadata": {},
   "source": [
    "## Crear modelos/tablas para la base de datos\n",
    "\n",
    "generar en la aplicacion-models.py el sigiente codigo para cada modelo.\n",
    "\n",
    "    - cada clase es un modelo/tabla y cada variable es una columna."
   ]
  },
  {
   "cell_type": "code",
   "execution_count": null,
   "metadata": {},
   "outputs": [],
   "source": [
    "from django.db import models\n",
    "\n",
    "class nombreModelo(models.Model):\n",
    "    variable = models.CharField(max_lenght=64, help_text=\"Texto de ayuda / info del campo\")\n",
    "\n",
    "    def __str__(self):\n",
    "        return self.variable"
   ]
  },
  {
   "cell_type": "markdown",
   "metadata": {},
   "source": [
    "## Registrar los modelos creados\n",
    "\n",
    "en aplicacion-admin.py hacer:"
   ]
  },
  {
   "cell_type": "code",
   "execution_count": null,
   "metadata": {},
   "outputs": [],
   "source": [
    "from .models import cada, modelo, creado # o * para importar todos\n",
    "\n",
    "admin.site.register(cada)\n",
    "admin.site.register(modelo)\n",
    "admin.site.register(creado)"
   ]
  },
  {
   "cell_type": "markdown",
   "metadata": {},
   "source": [
    "## Para visualizar datos (web)\n",
    "\n",
    "En la aplicacion-urls.py agregar la url del index:"
   ]
  },
  {
   "cell_type": "code",
   "execution_count": null,
   "metadata": {},
   "outputs": [],
   "source": [
    "from django.urls import re_path as url\n",
    "from . import views\n",
    "\n",
    "urlpatterns = [\n",
    "    url(r'^$', views.index, name='index') # r'^$' = exprecion regular de /\n",
    "]"
   ]
  },
  {
   "cell_type": "markdown",
   "metadata": {},
   "source": [
    "y en la aplicacion-views.py importar los modelos de models.py y crear la funcion index()"
   ]
  },
  {
   "cell_type": "code",
   "execution_count": null,
   "metadata": {},
   "outputs": [],
   "source": [
    "from .models import cada, modelo, creado\n",
    "\n",
    "def index(request):\n",
    "    variable1 = cada.objects.all().cout()\n",
    "    variable2= modelo.objects.filter(status__exact='a').cout()\n",
    "    variable3 = creado.objects.all().cout()\n",
    "\n",
    "    return render(\n",
    "        request,\n",
    "        'index.html',\n",
    "        context={\n",
    "            'variable1': variable1,\n",
    "            'variable2': variable2,\n",
    "            'variable3': variable3\n",
    "        }\n",
    "    )"
   ]
  },
  {
   "cell_type": "markdown",
   "metadata": {},
   "source": [
    "## Agregar estilos a los urls\n",
    "\n",
    "En el proyecto-urls.py añadir lo siguiente:"
   ]
  },
  {
   "cell_type": "code",
   "execution_count": null,
   "metadata": {},
   "outputs": [],
   "source": [
    "from django.conf import settings\n",
    "from django.conf.urls.static import static\n",
    "\n",
    "urlpatterns = [\n",
    "\n",
    "] + static(settings.STATIC_URL, document_root=settings.STATIC_ROOT)"
   ]
  }
 ],
 "metadata": {
  "kernelspec": {
   "display_name": "Python 3.10.3 64-bit",
   "language": "python",
   "name": "python3"
  },
  "language_info": {
   "name": "python",
   "version": "3.10.3 (tags/v3.10.3:a342a49, Mar 16 2022, 13:07:40) [MSC v.1929 64 bit (AMD64)]"
  },
  "orig_nbformat": 4,
  "vscode": {
   "interpreter": {
    "hash": "52313a3407583673a1052f0e5be924dc2e83f1ff5010da3ae476c7d4eb5bf462"
   }
  }
 },
 "nbformat": 4,
 "nbformat_minor": 2
}
